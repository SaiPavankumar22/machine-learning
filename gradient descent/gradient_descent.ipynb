{
 "cells": [
  {
   "cell_type": "code",
   "execution_count": 1,
   "id": "2f743a2a",
   "metadata": {},
   "outputs": [],
   "source": [
    "import numpy as np"
   ]
  },
  {
   "cell_type": "code",
   "execution_count": 11,
   "id": "f3302fa0",
   "metadata": {},
   "outputs": [
    {
     "name": "stdout",
     "output_type": "stream",
     "text": [
      "m=0.62,b=0.18,cost=89.0,r=0\n",
      "m=1.0928,b=0.3192,cost=52.25039999999999,r=1\n",
      "m=1.453232,b=0.42724799999999996,cost=30.831949440000002,r=2\n",
      "m=1.7278860800000002,b=0.5115091199999999,cost=18.347751350784,r=3\n",
      "m=1.9370605952000002,b=0.5776057727999999,cost=11.070010749324897,r=4\n",
      "m=2.096250917888,b=0.6298300216319999,cost=6.826353152519786,r=5\n",
      "m=2.2172859146547204,b=0.6714583661260799,cost=4.350826141683065,r=6\n",
      "m=2.309195511463117,b=0.7049920439242751,cost=2.9056952040975976,r=7\n",
      "m=2.3788729763057748,b=0.7323404723580026,cost=2.0610450731046615,r=8\n",
      "m=2.431580493177024,b=0.7549612843324961,cost=1.5663423003130599,r=9\n"
     ]
    }
   ],
   "source": [
    "def gradient_descent(x,y):\n",
    "    mc=bc=0\n",
    "    r=10\n",
    "    n=len(x)\n",
    "    learning_rate=0.01\n",
    "    \n",
    "    for i in range(r):\n",
    "        y_pre = mc*x +bc\n",
    "        cost=(1/n)*sum([val**2 for val in (y-y_pre)])\n",
    "        md = -(2/n)*sum(x*(y-y_pre))\n",
    "        bd = -(2/n)*sum(y-y_pre)\n",
    "        mc=mc-learning_rate*md\n",
    "        bc=bc-learning_rate*bd\n",
    "        print(\"m={0},b={1},cost={2},r={3}\".format(mc,bc,cost,i))\n",
    "x=np.array([1,2,3,4,5])\n",
    "y=np.array([5,7,9,11,13])\n",
    "\n",
    "gradient_descent(x,y)"
   ]
  },
  {
   "cell_type": "code",
   "execution_count": null,
   "id": "43cdee9e",
   "metadata": {},
   "outputs": [],
   "source": []
  }
 ],
 "metadata": {
  "kernelspec": {
   "display_name": "Python 3 (ipykernel)",
   "language": "python",
   "name": "python3"
  },
  "language_info": {
   "codemirror_mode": {
    "name": "ipython",
    "version": 3
   },
   "file_extension": ".py",
   "mimetype": "text/x-python",
   "name": "python",
   "nbconvert_exporter": "python",
   "pygments_lexer": "ipython3",
   "version": "3.11.5"
  }
 },
 "nbformat": 4,
 "nbformat_minor": 5
}
